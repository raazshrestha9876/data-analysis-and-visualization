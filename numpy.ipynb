{
  "nbformat": 4,
  "nbformat_minor": 0,
  "metadata": {
    "colab": {
      "provenance": [],
      "authorship_tag": "ABX9TyO9Qf1ePwW98ilapYE2bc5G",
      "include_colab_link": true
    },
    "kernelspec": {
      "name": "python3",
      "display_name": "Python 3"
    },
    "language_info": {
      "name": "python"
    }
  },
  "cells": [
    {
      "cell_type": "markdown",
      "metadata": {
        "id": "view-in-github",
        "colab_type": "text"
      },
      "source": [
        "<a href=\"https://colab.research.google.com/github/raazshrestha9876/numpy/blob/main/numpy.ipynb\" target=\"_parent\"><img src=\"https://colab.research.google.com/assets/colab-badge.svg\" alt=\"Open In Colab\"/></a>"
      ]
    },
    {
      "cell_type": "code",
      "execution_count": null,
      "metadata": {
        "id": "bRcTv1eGSTGu"
      },
      "outputs": [],
      "source": [
        "#importing numpy\n",
        "import numpy as np"
      ]
    },
    {
      "cell_type": "code",
      "source": [
        "#creating Array #1D\n",
        "arr1 = np.array([1, 2, 3])\n",
        "print(arr1)"
      ],
      "metadata": {
        "colab": {
          "base_uri": "https://localhost:8080/"
        },
        "id": "kH6-CHOTSvuD",
        "outputId": "d815ad1a-ea80-4601-9e77-92fda70ce25a"
      },
      "execution_count": null,
      "outputs": [
        {
          "output_type": "stream",
          "name": "stdout",
          "text": [
            "[1 2 3]\n"
          ]
        }
      ]
    },
    {
      "cell_type": "code",
      "source": [
        "#creating Array #2D\n",
        "arr2 = np.array([[1, 2], [3, 4]])\n",
        "print(arr2)"
      ],
      "metadata": {
        "colab": {
          "base_uri": "https://localhost:8080/"
        },
        "id": "qJcYjXFbS0CK",
        "outputId": "b963b782-4272-46dd-a67f-b24620024851"
      },
      "execution_count": null,
      "outputs": [
        {
          "output_type": "stream",
          "name": "stdout",
          "text": [
            "[[1 2]\n",
            " [3 4]]\n"
          ]
        }
      ]
    },
    {
      "cell_type": "code",
      "source": [
        "#creating Array #3D\n",
        "arr3 = np.array([[[1, 2], [3, 4]], [[5, 6], [7, 9]]])\n",
        "print(arr3)"
      ],
      "metadata": {
        "colab": {
          "base_uri": "https://localhost:8080/"
        },
        "id": "ht_94g4eTHOI",
        "outputId": "f09cd25c-7934-441c-8159-581b37f80153"
      },
      "execution_count": null,
      "outputs": [
        {
          "output_type": "stream",
          "name": "stdout",
          "text": [
            "[[[1 2]\n",
            "  [3 4]]\n",
            "\n",
            " [[5 6]\n",
            "  [7 9]]]\n"
          ]
        }
      ]
    },
    {
      "cell_type": "code",
      "source": [
        "#creating a simple array for demonstrating properties\n",
        "arr1 = np.array([1, 2, 3, 4, 5])\n",
        "arr2 = np.array([[4, 5, 6], [8, 9, 10]])\n",
        "print(arr1)\n",
        "print(arr2)\n",
        "\n",
        "#dimensions\n",
        "print(arr1.ndim)\n",
        "print(arr2.ndim)\n",
        "\n",
        "#shape\n",
        "print(arr1.shape)\n",
        "print(arr2.shape)\n",
        "\n",
        "#size\n",
        "print(arr1.size)\n",
        "print(arr2.size)\n",
        "\n",
        "#dtype\n",
        "print(arr1.dtype)\n",
        "print(arr2.dtype)"
      ],
      "metadata": {
        "colab": {
          "base_uri": "https://localhost:8080/"
        },
        "id": "GkJxhNawTd2n",
        "outputId": "f8920a7c-1b66-42c1-d8d5-d98995dfa313"
      },
      "execution_count": null,
      "outputs": [
        {
          "output_type": "stream",
          "name": "stdout",
          "text": [
            "[1 2 3 4 5]\n",
            "[[ 4  5  6]\n",
            " [ 8  9 10]]\n",
            "1\n",
            "2\n",
            "(5,)\n",
            "(2, 3)\n",
            "5\n",
            "6\n",
            "int64\n",
            "int64\n"
          ]
        }
      ]
    },
    {
      "cell_type": "code",
      "source": [
        "#array creation methods\n",
        "\n",
        "#printing zero value in array\n",
        "zeros = np.zeros((2, 3))\n",
        "print(zeros)\n",
        "\n",
        "#printing one value in array\n",
        "ones = np.ones((2, 2))\n",
        "print(ones)\n",
        "\n",
        "#printing any number value in array\n",
        "full = np.full((2, 2), 10)\n",
        "print(full)\n",
        "\n",
        "#creating an indentity matrix\n",
        "eye = np.eye(3)\n",
        "print(eye)\n",
        "\n",
        "#creating an digonal matrix\n",
        "diag = np.diag([1, 2, 3])\n",
        "print(diag)\n",
        "\n",
        "#range value in array\n",
        "arange_arr = np.arange(0, 10, 2)\n",
        "print(arange_arr)\n",
        "\n",
        "#equally space values\n",
        "lin_arr = np.linspace(0, 10, 5)\n",
        "print(lin_arr)\n",
        "\n",
        "\n"
      ],
      "metadata": {
        "colab": {
          "base_uri": "https://localhost:8080/"
        },
        "id": "JYxTToWdT7od",
        "outputId": "f34d4977-b506-4323-d290-e835aa4b796a"
      },
      "execution_count": null,
      "outputs": [
        {
          "output_type": "stream",
          "name": "stdout",
          "text": [
            "[[0. 0. 0.]\n",
            " [0. 0. 0.]]\n",
            "[[1. 1.]\n",
            " [1. 1.]]\n",
            "[[10 10]\n",
            " [10 10]]\n",
            "[[1. 0. 0.]\n",
            " [0. 1. 0.]\n",
            " [0. 0. 1.]]\n",
            "[[1 0 0]\n",
            " [0 2 0]\n",
            " [0 0 3]]\n",
            "[0 2 4 6 8]\n",
            "[ 0.   2.5  5.   7.5 10. ]\n"
          ]
        }
      ]
    },
    {
      "cell_type": "code",
      "source": [
        "#reshaping and transposing\n",
        "arr = np.array([[1, 2], [3, 4], [5, 6]])\n",
        "\n",
        "#reshaping the array to 2 rows and 3 columns\n",
        "reshaped_arr = arr.reshape(2, 3)\n",
        "print(reshaped_arr)\n",
        "\n",
        "#flatten array into a single 1D array\n",
        "flattened_arr = arr.flatten()\n",
        "print(flattened_arr)\n",
        "\n",
        "#transposing the array\n",
        "transposed_arr = arr.T\n",
        "print(transposed_arr)"
      ],
      "metadata": {
        "id": "lle9iMR6Uy-H",
        "colab": {
          "base_uri": "https://localhost:8080/"
        },
        "outputId": "6645892a-933c-4a03-de91-3cd511d2af8e"
      },
      "execution_count": null,
      "outputs": [
        {
          "output_type": "stream",
          "name": "stdout",
          "text": [
            "[[1 2 3]\n",
            " [4 5 6]]\n",
            "[1 2 3 4 5 6]\n",
            "[[1 3 5]\n",
            " [2 4 6]]\n"
          ]
        }
      ]
    },
    {
      "cell_type": "code",
      "source": [
        "#arithematic & statistical operations\n",
        "x = np.array([1, 2, 3])\n",
        "y = np.array([4, 5, 6])\n",
        "\n",
        "#element-wise addition\n",
        "print(\"\\nAdd\", x + y)\n",
        "\n",
        "#element-wise subtraction\n",
        "print(\"\\nSubtract\", x - y)\n",
        "\n",
        "#element-wise multiplication\n",
        "print(\"\\nMultiply\", x * y)\n",
        "\n",
        "#element-wise division\n",
        "print(\"\\nDivide\", x / y)\n",
        "\n",
        "#square each element\n",
        "print(\"\\nSquare\", x ** 2)\n",
        "\n",
        "#square root of each element in y\n",
        "print(\"\\nSquare Root\", np.sqrt(y))\n",
        "\n",
        "# total sum of array elements\n",
        "print(\"\\nSum:\", np.sum(x))\n",
        "\n",
        "#average of elements\n",
        "print(\"\\nAverage:\", np.mean(x))\n",
        "\n",
        "#minimum value\n",
        "print(\"\\nMinimum:\", np.min(x))\n",
        "\n",
        "#maximum value\n",
        "print(\"\\nMaximum:\", np.max(x))\n",
        "\n",
        "#standard deviation\n",
        "print(\"\\nStandard Deviation:\", np.std(x))\n",
        "\n",
        "#cumulative sum\n",
        "print(\"\\nCumulative Sum:\", np.cumsum(x))"
      ],
      "metadata": {
        "colab": {
          "base_uri": "https://localhost:8080/"
        },
        "id": "F88gQ0_9OH1E",
        "outputId": "dffd6ca2-3e30-42b8-a552-4c8031931784"
      },
      "execution_count": null,
      "outputs": [
        {
          "output_type": "stream",
          "name": "stdout",
          "text": [
            "\n",
            "Add [5 7 9]\n",
            "\n",
            "Subtract [-3 -3 -3]\n",
            "\n",
            "Multiply [ 4 10 18]\n",
            "\n",
            "Divide [0.25 0.4  0.5 ]\n",
            "\n",
            "Square [1 4 9]\n",
            "\n",
            "Square Root [2.         2.23606798 2.44948974]\n",
            "\n",
            "Sum: 6\n",
            "\n",
            "Average: 2.0\n",
            "\n",
            "Minimum: 1\n",
            "\n",
            "Maximum: 3\n",
            "\n",
            "Standard Deviation: 0.816496580927726\n",
            "\n",
            "Cumulative Sum: [1 3 6]\n"
          ]
        }
      ]
    },
    {
      "cell_type": "code",
      "source": [
        "#advanced methods\n",
        "data = np.array([3, 1, 2, 2, 5])\n",
        "\n",
        "#return sorted unique values\n",
        "print(\"\\nUnquie: \", np.unique(data))\n",
        "\n",
        "#sort elements in ascending order\n",
        "sorted_arr = np.sort(data)\n",
        "print(\"Sorted: \", sorted_arr)\n",
        "\n",
        "#find indices where condition is true (values > 2)\n",
        "cond = np.where(data > 2)\n",
        "print(\"Where>2:\", cond)\n",
        "\n",
        "#stack arrays vertically (row-wise)\n",
        "arr1 = np.array([1, 2, 3])\n",
        "arr2 = np.array([4, 5, 6])\n",
        "stacked_arr = np.vstack((arr1, arr2))\n",
        "print(\"Vertical Stack: \\n\", stacked_arr)\n",
        "\n",
        "#stack array horizontally (column wise)\n",
        "stacked_arr = np.hstack((arr1, arr2))\n",
        "print(\"Horizontal Stack: \\n\", stacked_arr)\n",
        "\n",
        "#make a deep copy array (changes won't affect original)\n",
        "copy = np.copy(data)\n"
      ],
      "metadata": {
        "colab": {
          "base_uri": "https://localhost:8080/"
        },
        "id": "e8pp5Nl6PHZ5",
        "outputId": "62bc61ae-f468-4231-9bfe-594d09cad71e"
      },
      "execution_count": null,
      "outputs": [
        {
          "output_type": "stream",
          "name": "stdout",
          "text": [
            "\n",
            "Unquie:  [1 2 3 5]\n",
            "Sorted:  [1 2 2 3 5]\n",
            "Where>2: (array([0, 4]),)\n",
            "Vertical Stack: \n",
            " [[1 2 3]\n",
            " [4 5 6]]\n",
            "Horizontal Stack: \n",
            " [1 2 3 4 5 6]\n"
          ]
        }
      ]
    },
    {
      "cell_type": "code",
      "source": [
        "#broadcasting\n",
        "arr = np.array([[1, 2], [3, 4]])\n",
        "scalar = 10\n",
        "\n",
        "#add scalar to every element (broadcating)\n",
        "print(\"\\nBroadcasted Add: \\n\", arr + scalar)"
      ],
      "metadata": {
        "colab": {
          "base_uri": "https://localhost:8080/"
        },
        "id": "Rg8VYos_QcFT",
        "outputId": "8642bba9-b689-454d-b48b-e8ba41107d1a"
      },
      "execution_count": null,
      "outputs": [
        {
          "output_type": "stream",
          "name": "stdout",
          "text": [
            "\n",
            "Broadcasted Add: \n",
            " [[11 12]\n",
            " [13 14]]\n"
          ]
        }
      ]
    },
    {
      "cell_type": "code",
      "source": [
        "#linear algebra\n",
        "matrix = np.array([[1, 2], [3, 4]])\n",
        "print(\"\\nMatrix: \\n\", matrix)\n",
        "\n",
        "#matrix multiplication(dot product)\n",
        "dot_product = np.dot(matrix, matrix)\n",
        "print(\"\\nDot product: \\n\", dot_product)\n",
        "\n",
        "#matrix inverse\n",
        "inverse = np.linalg.inv(matrix)\n",
        "print(\"\\nInverse: \\n\", inverse)\n",
        "\n",
        "#determinant of matrix(useful in solving equation)\n",
        "print(\"\\nDeterminant: \\n\", np.linalg.det(matrix))\n",
        "\n",
        "#eigen values and eigen vectors ( used in ML and PCA)\n",
        "eigvals, eigvecs = np.linalg.eig(matrix)\n",
        "print(\"\\nEigen values: \", eigvals)\n",
        "print(\"\\nEigen vectors: \\n\", eigvecs)"
      ],
      "metadata": {
        "colab": {
          "base_uri": "https://localhost:8080/"
        },
        "id": "fsRkC4omQs-_",
        "outputId": "eaf062ec-a6cd-4ba1-e5c8-16056180e6fb"
      },
      "execution_count": null,
      "outputs": [
        {
          "output_type": "stream",
          "name": "stdout",
          "text": [
            "\n",
            "Matrix: \n",
            " [[1 2]\n",
            " [3 4]]\n",
            "\n",
            "Dot product: \n",
            " [[ 7 10]\n",
            " [15 22]]\n",
            "\n",
            "Inverse: \n",
            " [[-2.   1. ]\n",
            " [ 1.5 -0.5]]\n",
            "\n",
            "Determinant: \n",
            " -2.0000000000000004\n",
            "\n",
            "Eigen values:  [-0.37228132  5.37228132]\n",
            "\n",
            "Eigen vectors: \n",
            " [[-0.82456484 -0.41597356]\n",
            " [ 0.56576746 -0.90937671]]\n"
          ]
        }
      ]
    },
    {
      "cell_type": "code",
      "source": [
        "#random module\n",
        "\n",
        "#fix seed to get the same result every time\n",
        "np.random.seed(42)\n",
        "\n",
        "#generate 3*2 array of random values between 0 and 1\n",
        "rand_arr = np.random.rand(3, 2)\n",
        "print(\"\\Random[0, 1]: \\n\", rand_arr)\n",
        "\n",
        "#generate 10 random values between 0 and 1\n",
        "rand_arr_2 = np.random.random(10,)\n",
        "print(\"\\nRandom: \\n\", rand_arr_2)\n",
        "\n",
        "#generate 3 random integers between 0 and 9\n",
        "rand_int = np.random.randint(0, 10, (3,))\n",
        "print(\"\\nRandom Integers: \", rand_int)\n",
        "\n",
        "\n",
        "\n"
      ],
      "metadata": {
        "colab": {
          "base_uri": "https://localhost:8080/"
        },
        "id": "-DVrwM0YTPC4",
        "outputId": "c7b19e86-2b49-4918-9126-aaf92d06bd70"
      },
      "execution_count": null,
      "outputs": [
        {
          "output_type": "stream",
          "name": "stdout",
          "text": [
            "\\Random[0, 1]: \n",
            " [[0.37454012 0.95071431]\n",
            " [0.73199394 0.59865848]\n",
            " [0.15601864 0.15599452]]\n",
            "\n",
            "Random: \n",
            " [0.05808361 0.86617615 0.60111501 0.70807258 0.02058449 0.96990985\n",
            " 0.83244264 0.21233911 0.18182497 0.18340451]\n",
            "\n",
            "Random Integers:  [9 5 8]\n"
          ]
        }
      ]
    },
    {
      "cell_type": "code",
      "source": [
        "#handling missing values\n",
        "arr_nan = np.array([1, np.nan, 3, np.nan])\n",
        "\n",
        "#find positions of NaN values\n",
        "print(\"\\nNaN positions: \", np.isnan(arr_nan))\n",
        "\n",
        "#replace NaN values with custom value (e.g 4)\n",
        "cleaned = np.nan_to_num(arr_nan, nan=4)\n",
        "print(\"\\nCleaned: \", cleaned)\n",
        "\n",
        "\n"
      ],
      "metadata": {
        "colab": {
          "base_uri": "https://localhost:8080/"
        },
        "id": "FAoOZw9qUqJ2",
        "outputId": "6492bac2-17f2-4680-adcf-be2375378c2f"
      },
      "execution_count": null,
      "outputs": [
        {
          "output_type": "stream",
          "name": "stdout",
          "text": [
            "\n",
            "NaN positions:  [False  True False  True]\n",
            "\n",
            "Cleaned:  [1. 4. 3. 4.]\n"
          ]
        }
      ]
    },
    {
      "cell_type": "code",
      "source": [],
      "metadata": {
        "id": "ns1ca8mQVKvP"
      },
      "execution_count": null,
      "outputs": []
    }
  ]
}